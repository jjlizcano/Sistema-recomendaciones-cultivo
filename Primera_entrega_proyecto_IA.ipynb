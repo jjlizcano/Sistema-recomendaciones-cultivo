{
  "nbformat": 4,
  "nbformat_minor": 0,
  "metadata": {
    "colab": {
      "provenance": [],
      "include_colab_link": true
    },
    "kernelspec": {
      "name": "python3",
      "display_name": "Python 3"
    },
    "language_info": {
      "name": "python"
    }
  },
  "cells": [
    {
      "cell_type": "markdown",
      "metadata": {
        "id": "view-in-github",
        "colab_type": "text"
      },
      "source": [
        "<a href=\"https://colab.research.google.com/github/jjlizcano/Sistema-recomendaciones-cultivo/blob/main/Primera_entrega_proyecto_IA.ipynb\" target=\"_parent\"><img src=\"https://colab.research.google.com/assets/colab-badge.svg\" alt=\"Open In Colab\"/></a>"
      ]
    },
    {
      "cell_type": "code",
      "execution_count": null,
      "metadata": {
        "colab": {
          "base_uri": "https://localhost:8080/"
        },
        "id": "XjZcIorXWdxP",
        "outputId": "f86eb8d3-7ca3-45e1-f2b1-a3c36726f14d"
      },
      "outputs": [
        {
          "output_type": "stream",
          "name": "stdout",
          "text": [
            "Mounted at /content/drive\n",
            "Error: El archivo no se encontró en la ruta especificada: /content/drive/MyDrive/course-AI/Proyecto IA/FAOSTAT_data_en_9-1-2025.csv\n"
          ]
        }
      ],
      "source": [
        "from google.colab import drive\n",
        "import pandas as pd\n",
        "\n",
        "# Montar Google Drive\n",
        "drive.mount('/content/drive')\n",
        "\n",
        "# Ruta al archivo CSV en tu Drive.\n",
        "# Asegúrate de reemplazar 'ruta/a/tu/carpeta1/carpeta2/nombre_archivo.csv' con la ruta real de tu archivo.\n",
        "file_path = '/content/drive/MyDrive/course-AI/Proyecto IA/FAOSTAT_data_en_9-1-2025.csv'\n",
        "\n",
        "# Leer el archivo CSV en un DataFrame de pandas\n",
        "try:\n",
        "    df = pd.read_csv(file_path)\n",
        "    # Obtener el número total de filas\n",
        "    total_rows = len(df)\n",
        "    # Mostrar el resultado\n",
        "    print(f\"El dataset tiene un total de {total_rows} registros.\")\n",
        "except FileNotFoundError:\n",
        "    print(f\"Error: El archivo no se encontró en la ruta especificada: {file_path}\")\n",
        "except Exception as e:\n",
        "    print(f\"Ocurrió un error al leer el archivo: {e}\")"
      ]
    },
    {
      "cell_type": "code",
      "source": [],
      "metadata": {
        "id": "D-pamcHYm7a8"
      },
      "execution_count": null,
      "outputs": []
    }
  ]
}